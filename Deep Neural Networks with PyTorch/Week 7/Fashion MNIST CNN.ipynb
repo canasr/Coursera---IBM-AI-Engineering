{
 "cells": [
  {
   "cell_type": "code",
   "execution_count": 1,
   "metadata": {},
   "outputs": [],
   "source": [
    "import torch\n",
    "import torch.nn as nn\n",
    "import torchvision.transforms as transforms\n",
    "import torchvision.datasets as datasets\n",
    "from torch.utils.data import DataLoader, Dataset\n",
    "from torch.autograd import Variable"
   ]
  },
  {
   "cell_type": "code",
   "execution_count": 3,
   "metadata": {},
   "outputs": [],
   "source": [
    "import matplotlib.pyplot as plt\n",
    "import numpy as np\n",
    "\n",
    "from matplotlib.pyplot import imshow\n",
    "import matplotlib.pylab as plt\n",
    "from PIL import Image\n",
    "\n",
    "import time\n",
    "torch.manual_seed(0);"
   ]
  },
  {
   "cell_type": "markdown",
   "metadata": {},
   "source": [
    "__Load Dataset__"
   ]
  },
  {
   "cell_type": "code",
   "execution_count": 27,
   "metadata": {},
   "outputs": [],
   "source": [
    "IMG_SIZE = 28 # Original = 28 \n",
    "\n",
    "#Create a transform to resize images and convert to tensor\n",
    "composed = transforms.Compose([transforms.Resize((IMG_SIZE, IMG_SIZE)), transforms.ToTensor()])\n",
    "\n",
    "#Load Train and Test Datasets\n",
    "train_set = datasets.FashionMNIST(root='.fashion/data', train=True, download=True, transform=composed)\n",
    "test_set  = datasets.FashionMNIST(root='.fashion/data', train=False, download=True, transform=composed)"
   ]
  },
  {
   "cell_type": "code",
   "execution_count": 5,
   "metadata": {},
   "outputs": [],
   "source": [
    "def show_data(data_sample):\n",
    "    plt.imshow(data_sample[0].numpy().reshape(IMG_SIZE, IMG_SIZE), cmap='gray')\n",
    "    plt.title('y = ' + str(data_sample[1]))"
   ]
  },
  {
   "cell_type": "markdown",
   "metadata": {},
   "source": [
    "## Question 1\n",
    "Take a screen shot of  the first three images of the validation dataset  from the code provided . The function show_data"
   ]
  },
  {
   "cell_type": "code",
   "execution_count": 6,
   "metadata": {},
   "outputs": [
    {
     "data": {
      "image/png": "[encoded data removed]",
      "text/plain": [
       "<Figure size 432x288 with 1 Axes>"
      ]
     },
     "metadata": {
      "needs_background": "light"
     },
     "output_type": "display_data"
    },
    {
     "data": {
      "image/png": "[encoded data removed]",
      "text/plain": [
       "<Figure size 432x288 with 1 Axes>"
      ]
     },
     "metadata": {
      "needs_background": "light"
     },
     "output_type": "display_data"
    },
    {
     "data": {
      "image/png": "[encoded data removed]",
      "text/plain": [
       "<Figure size 432x288 with 1 Axes>"
      ]
     },
     "metadata": {
      "needs_background": "light"
     },
     "output_type": "display_data"
    }
   ],
   "source": [
    "for n in range(3):\n",
    "    show_data(test_set[n])\n",
    "    plt.show()"
   ]
  },
  {
   "cell_type": "markdown",
   "metadata": {},
   "source": [
    "__Building a CNN__"
   ]
  },
  {
   "cell_type": "code",
   "execution_count": 28,
   "metadata": {},
   "outputs": [],
   "source": [
    "class FashionCNN(nn.Module):\n",
    "    def __init__(self, Ndim ):\n",
    "        super(FashionCNN, self).__init__()\n",
    "        \n",
    "        self.layer1 = nn.Sequential(\n",
    "            # Input IMG_SIZE x IMG_SIZE x 1 -> Output IMG_SIZE x IMG_SIZE x Ndim \n",
    "            # 16 x 16 x 1 -> 16 x  16 x 32\n",
    "            # 28 x 28  x 1 -> 28 x 28  x 32\n",
    "            nn.Conv2d(in_channels=1, out_channels=Ndim, kernel_size=3, padding=1),\n",
    "            nn.BatchNorm2d(Ndim),\n",
    "            nn.ReLU(),\n",
    "            # Input  IMG_SIZE x IMG_SIZE x Ndim  -> Output IMG_SIZE/2 x IMG_SIZE/2 x Ndim \n",
    "            # 28 x 28  x 32 -> 14 x 14 x 32\n",
    "            nn.MaxPool2d(kernel_size=2, stride=2)\n",
    "        )\n",
    "        \n",
    "        self.layer2 = nn.Sequential(\n",
    "            # IMG_SIZE/2 x IMG_SIZE/2 x Ndim  -> Output IMG_SIZE/2 x IMG_SIZE/2 x Ndim*2 \n",
    "            # 14 x  14 x 32 -> 14 x  14 x 64\n",
    "            nn.Conv2d(in_channels=Ndim, out_channels=Ndim*2, kernel_size=3, padding=1),\n",
    "            nn.BatchNorm2d(Ndim*2),\n",
    "            nn.ReLU(),\n",
    "            \n",
    "            # IMG_SIZE/2 x IMG_SIZE/2 x Ndim*2  -> Output IMG_SIZE/4 x IMG_SIZE/4 x Ndim*2 \n",
    "            # 14 x  14 x 64 -> 7 x  7 x 64                \n",
    "            nn.MaxPool2d(2)\n",
    "        )\n",
    "        \n",
    "        #self.fc1 = nn.Linear(in_features= Ndim*2 *4*4, out_features=10) \n",
    "        \n",
    "        #self.bn_fc1 = nn.BatchNorm1d(10)\n",
    "        self.fc1 = nn.Linear(in_features= Ndim*2 *7*7, out_features=512)   \n",
    "        #self.drop = nn.Dropout2d(0.25)\n",
    "        self.fc2 = nn.Linear(in_features=512, out_features=128)\n",
    "        self.fc3 = nn.Linear(in_features=128, out_features=10) \n",
    "        # self.bn_fc1 = nn.BatchNorm1d(10)\n",
    "        \n",
    "    def forward(self, x):\n",
    "        out = self.layer1(x)\n",
    "        out = self.layer2(out)\n",
    "        out = out.view(out.size(0), -1)\n",
    "        #out = self.fc1(out)\n",
    "        #out = self.bn_fc1(out)\n",
    "        out = self.fc1(out)\n",
    "        #out = self.drop(out)\n",
    "        out = self.fc2(out)\n",
    "        out = self.fc3(out)\n",
    "        \n",
    "        return out        "
   ]
  },
  {
   "cell_type": "code",
   "execution_count": 29,
   "metadata": {},
   "outputs": [
    {
     "name": "stdout",
     "output_type": "stream",
     "text": [
      "FashionCNN(\n",
      "  (layer1): Sequential(\n",
      "    (0): Conv2d(1, 32, kernel_size=(3, 3), stride=(1, 1), padding=(1, 1))\n",
      "    (1): BatchNorm2d(32, eps=1e-05, momentum=0.1, affine=True, track_running_stats=True)\n",
      "    (2): ReLU()\n",
      "    (3): MaxPool2d(kernel_size=2, stride=2, padding=0, dilation=1, ceil_mode=False)\n",
      "  )\n",
      "  (layer2): Sequential(\n",
      "    (0): Conv2d(32, 64, kernel_size=(3, 3), stride=(1, 1), padding=(1, 1))\n",
      "    (1): BatchNorm2d(64, eps=1e-05, momentum=0.1, affine=True, track_running_stats=True)\n",
      "    (2): ReLU()\n",
      "    (3): MaxPool2d(kernel_size=2, stride=2, padding=0, dilation=1, ceil_mode=False)\n",
      "  )\n",
      "  (fc1): Linear(in_features=3136, out_features=512, bias=True)\n",
      "  (fc2): Linear(in_features=512, out_features=128, bias=True)\n",
      "  (fc3): Linear(in_features=128, out_features=10, bias=True)\n",
      ")\n"
     ]
    }
   ],
   "source": [
    "model = FashionCNN(32)\n",
    "criterion = nn.CrossEntropyLoss()\n",
    "learning_rate = 0.01\n",
    "#optimizer = torch.optim.Adam(model.parameters(), lr=learning_rate)\n",
    "optimizer = torch.optim.SGD(model.parameters(), lr=learning_rate)\n",
    "\n",
    "train_loader = torch.utils.data.DataLoader(train_set, batch_size=100)\n",
    "test_loader = torch.utils.data.DataLoader(test_set, batch_size=100)\n",
    "\n",
    "print(model)"
   ]
  },
  {
   "cell_type": "code",
   "execution_count": 30,
   "metadata": {},
   "outputs": [
    {
     "name": "stdout",
     "output_type": "stream",
     "text": [
      "Epoch : 0\n",
      "accuracy 0.8573  cost 343.38104635477066 \n",
      "Epoch : 1\n",
      "accuracy 0.8766  cost 214.80540437996387 \n",
      "Epoch : 2\n",
      "accuracy 0.8889  cost 186.42772814631462 \n",
      "Epoch : 3\n",
      "accuracy 0.8954  cost 169.80957816541195 \n",
      "Epoch : 4\n",
      "accuracy 0.8991  cost 157.88846220076084 \n",
      "Epoch : 5\n",
      "accuracy 0.9012  cost 148.49779395014048 \n",
      "Epoch : 6\n",
      "accuracy 0.9034  cost 140.68851302564144 \n",
      "Epoch : 7\n",
      "accuracy 0.905  cost 133.94248165935278 \n"
     ]
    }
   ],
   "source": [
    "cost_list = []\n",
    "accuracy_list = []\n",
    "N_test = len(test_set)\n",
    "n_epochs = 8\n",
    "\n",
    "for epoch in range(n_epochs):\n",
    "    \n",
    "    print('Epoch :',epoch)\n",
    "    cost = 0\n",
    "    model.train()\n",
    "    for x, y in train_loader:\n",
    "        optimizer.zero_grad()\n",
    "        z = model(x)\n",
    "        loss = criterion(z, y)\n",
    "        loss.backward()\n",
    "        optimizer.step()\n",
    "        cost += loss.item()\n",
    "    correct = 0\n",
    "    \n",
    "    # Testing the model\n",
    "    model.eval()\n",
    "    for x_test, y_test in test_loader:\n",
    "        z = model(x_test)\n",
    "        _, yhat = torch.max(z.data, 1)\n",
    "        correct += (yhat == y_test).sum().item()\n",
    "    accuracy = correct / N_test\n",
    "    accuracy_list.append(accuracy)\n",
    "    cost_list.append(cost)\n",
    "    print('accuracy {}  cost {} '.format(accuracy, cost))\n"
   ]
  },
  {
   "cell_type": "code",
   "execution_count": 31,
   "metadata": {},
   "outputs": [
    {
     "data": {
      "image/png": "[encoded data removed]",
      "text/plain": [
       "<Figure size 432x288 with 2 Axes>"
      ]
     },
     "metadata": {
      "needs_background": "light"
     },
     "output_type": "display_data"
    }
   ],
   "source": [
    "# Plot the loss and accuracy\n",
    "fig, ax1 = plt.subplots()\n",
    "color = 'tab:red'\n",
    "ax1.plot(cost_list, color=color)\n",
    "ax1.set_xlabel('epoch', color=color)\n",
    "ax1.set_ylabel('Cost', color=color)\n",
    "ax1.tick_params(axis='y', color=color)\n",
    "\n",
    "ax2 = ax1.twinx()\n",
    "color = 'tab:blue'\n",
    "ax2.set_ylabel('accuracy', color=color)\n",
    "ax2.set_xlabel('epoch', color=color)\n",
    "ax2.plot(accuracy_list, color=color)\n",
    "ax2.tick_params(axis='y', color=color)\n",
    "fig.tight_layout()"
   ]
  },
  {
   "cell_type": "code",
   "execution_count": null,
   "metadata": {},
   "outputs": [],
   "source": []
  }
 ],
 "metadata": {
  "kernelspec": {
   "display_name": "Python 3",
   "language": "python",
   "name": "python3"
  },
  "language_info": {
   "codemirror_mode": {
    "name": "ipython",
    "version": 3
   },
   "file_extension": ".py",
   "mimetype": "text/x-python",
   "name": "python",
   "nbconvert_exporter": "python",
   "pygments_lexer": "ipython3",
   "version": "3.8.6"
  }
 },
 "nbformat": 4,
 "nbformat_minor": 4
}
